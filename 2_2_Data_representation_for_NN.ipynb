{
  "cells": [
    {
      "cell_type": "markdown",
      "metadata": {
        "id": "e2db9533"
      },
      "source": [
        "# Data Representations for Neural Networks\n",
        "\n",
        "Welcome to this notebook on Data Representations for Neural Networks. Understanding how data is structured and represented is a fundamental step in working with neural networks. In this notebook, we will explore the concept of tensors and how different types of real-world data can be represented as tensors, which serve as the input and output for neural network models.\n",
        "\n",
        "This notebook explores the following topics:\n",
        "- Scalars (0 D tensors)\n",
        "- Vectors (1D tensors)\n",
        "- Matrices (2D tensors)\n",
        "- 3D tensors and higher- dimensional tensors\n",
        "- Key attributes\n",
        "- Manipulating tensors in Numpy\n",
        "- The notion of data batches\n",
        "- Real-world examples of data tensors\n",
        "- Vector data\n",
        "- Time series data or sequence data\n",
        "- Image data\n",
        "- Video data\n",
        "\n",
        "\n",
        "## What are Tensors?\n",
        "\n",
        "Tensors are generalizations of vectors and matrices to an arbitrary number of dimensions. In the context of neural networks, they are used to store and manipulate data.\n",
        "\n",
        "## Scalars (0D Tensors)\n",
        "\n",
        "*   A scalar is a single number.\n",
        "*   It has zero dimensions.\n",
        "*   In NumPy, a scalar is represented as a tensor with an empty shape `()`."
      ]
    },
    {
      "cell_type": "code",
      "execution_count": null,
      "metadata": {
        "colab": {
          "base_uri": "https://localhost:8080/"
        },
        "id": "976d1419",
        "outputId": "9f1f5c8b-d07f-42a9-84ce-5b4b0e0cb353"
      },
      "outputs": [
        {
          "name": "stdout",
          "output_type": "stream",
          "text": [
            "Scalar: 5\n",
            "Dimensions of scalar: 0\n",
            "Shape of scalar: ()\n"
          ]
        }
      ],
      "source": [
        "import numpy as np\n",
        "\n",
        "scalar = np.array(5)\n",
        "print(f\"Scalar: {scalar}\")\n",
        "print(f\"Dimensions of scalar: {scalar.ndim}\")\n",
        "print(f\"Shape of scalar: {scalar.shape}\")"
      ]
    },
    {
      "cell_type": "markdown",
      "metadata": {
        "id": "62e27cde"
      },
      "source": [
        "## Vectors (1D Tensors)\n",
        "\n",
        "*   A vector is an array of numbers.\n",
        "*   It has one dimension.\n",
        "*   In NumPy, a vector is represented as a tensor with a shape of `(n,)`, where `n` is the number of elements in the vector."
      ]
    },
    {
      "cell_type": "code",
      "execution_count": null,
      "metadata": {
        "colab": {
          "base_uri": "https://localhost:8080/"
        },
        "id": "9210f11d",
        "outputId": "85001762-3ec7-4f87-c43b-fc587a4ef281"
      },
      "outputs": [
        {
          "name": "stdout",
          "output_type": "stream",
          "text": [
            "Vector: [1 2 3 4 5]\n",
            "Dimensions of vector: 1\n",
            "Shape of vector: (5,)\n"
          ]
        }
      ],
      "source": [
        "vector = np.array([1, 2, 3, 4, 5])\n",
        "print(f\"Vector: {vector}\")\n",
        "print(f\"Dimensions of vector: {vector.ndim}\")\n",
        "print(f\"Shape of vector: {vector.shape}\")"
      ]
    },
    {
      "cell_type": "markdown",
      "metadata": {
        "id": "5cfd509d"
      },
      "source": [
        "## Matrices (2D Tensors)\n",
        "\n",
        "*   A matrix is a rectangular grid of numbers.\n",
        "*   It has two dimensions (rows and columns).\n",
        "*   In NumPy, a matrix is represented as a tensor with a shape of `(rows, columns)`."
      ]
    },
    {
      "cell_type": "code",
      "execution_count": null,
      "metadata": {
        "colab": {
          "base_uri": "https://localhost:8080/"
        },
        "id": "f07fa737",
        "outputId": "f56b4654-8aca-4a73-f856-04f32957c7c3"
      },
      "outputs": [
        {
          "name": "stdout",
          "output_type": "stream",
          "text": [
            "Matrix:\n",
            "[[1 2 3]\n",
            " [4 5 6]\n",
            " [7 8 9]]\n",
            "Dimensions of matrix: 2\n",
            "Shape of matrix: (3, 3)\n"
          ]
        }
      ],
      "source": [
        "matrix = np.array([[1, 2, 3], [4, 5, 6], [7, 8, 9]])\n",
        "print(f\"Matrix:\\n{matrix}\")\n",
        "print(f\"Dimensions of matrix: {matrix.ndim}\")\n",
        "print(f\"Shape of matrix: {matrix.shape}\")"
      ]
    },
    {
      "cell_type": "markdown",
      "metadata": {
        "id": "b12abf1c"
      },
      "source": [
        "## 3D Tensors and Higher-Dimensional Tensors\n",
        "\n",
        "*   A 3D tensor can be thought of as a stack of matrices.\n",
        "*   It has three dimensions.\n",
        "*   Higher-dimensional tensors have more than three dimensions.\n",
        "*   In NumPy, the shape of a tensor indicates the size of each dimension. For example, a 3D tensor might have a shape of `(depth, rows, columns)`."
      ]
    },
    {
      "cell_type": "code",
      "execution_count": null,
      "metadata": {
        "colab": {
          "base_uri": "https://localhost:8080/"
        },
        "id": "85514bd3",
        "outputId": "1a4c8fd2-7bda-4784-bfc0-549ddbdc0f9c"
      },
      "outputs": [
        {
          "name": "stdout",
          "output_type": "stream",
          "text": [
            "3D Tensor:\n",
            "[[[1 2]\n",
            "  [3 4]]\n",
            "\n",
            " [[5 6]\n",
            "  [7 8]]]\n",
            "Dimensions of 3D tensor: 3\n",
            "Shape of 3D tensor: (2, 2, 2)\n"
          ]
        }
      ],
      "source": [
        "tensor_3d = np.array([[[1, 2], [3, 4]], [[5, 6], [7, 8]]])\n",
        "print(f\"3D Tensor:\\n{tensor_3d}\")\n",
        "print(f\"Dimensions of 3D tensor: {tensor_3d.ndim}\")\n",
        "print(f\"Shape of 3D tensor: {tensor_3d.shape}\")"
      ]
    },
    {
      "cell_type": "markdown",
      "metadata": {
        "id": "cdc83d8e"
      },
      "source": [
        "## Key Attributes of Tensors\n",
        "\n",
        "Every tensor has the following key attributes:\n",
        "\n",
        "*   **`ndim`**: The number of dimensions (axes).\n",
        "*   **`shape`**: A tuple of integers indicating the size of the tensor along each dimension.\n",
        "*   **`dtype`**: The data type of the elements in the tensor (e.g., `float32`, `int64`)."
      ]
    },
    {
      "cell_type": "code",
      "execution_count": null,
      "metadata": {
        "colab": {
          "base_uri": "https://localhost:8080/"
        },
        "id": "031aa3e6",
        "outputId": "0680ff8a-2d28-4ec7-935e-9bbb2bcd0c7f"
      },
      "outputs": [
        {
          "name": "stdout",
          "output_type": "stream",
          "text": [
            "Data type of scalar: int64\n",
            "Data type of vector: int64\n",
            "Data type of matrix: int64\n",
            "Data type of 3D tensor: int64\n"
          ]
        }
      ],
      "source": [
        "print(f\"Data type of scalar: {scalar.dtype}\")\n",
        "print(f\"Data type of vector: {vector.dtype}\")\n",
        "print(f\"Data type of matrix: {matrix.dtype}\")\n",
        "print(f\"Data type of 3D tensor: {tensor_3d.dtype}\")"
      ]
    },
    {
      "cell_type": "markdown",
      "metadata": {
        "id": "64e5b364"
      },
      "source": [
        "## Manipulating Tensors in NumPy\n",
        "\n",
        "NumPy provides a wide range of functions for manipulating tensors, such as:\n",
        "\n",
        "*   **Reshaping**: Changing the shape of a tensor.\n",
        "*   **Transposing**: Swapping dimensions.\n",
        "*   **Indexing and Slicing**: Accessing specific elements or subsets of a tensor.\n",
        "*   **Mathematical Operations**: Performing element-wise operations, matrix multiplication, etc."
      ]
    },
    {
      "cell_type": "code",
      "execution_count": null,
      "metadata": {
        "colab": {
          "base_uri": "https://localhost:8080/"
        },
        "id": "7aab6e61",
        "outputId": "f4fab661-7f98-4896-d39d-4afa7c0d6dfd"
      },
      "outputs": [
        {
          "name": "stdout",
          "output_type": "stream",
          "text": [
            "Reshaped vector:\n",
            "[[1]\n",
            " [2]\n",
            " [3]\n",
            " [4]\n",
            " [5]]\n",
            "Shape of reshaped vector: (5, 1)\n",
            "Transposed matrix:\n",
            "[[1 4 7]\n",
            " [2 5 8]\n",
            " [3 6 9]]\n",
            "Shape of transposed matrix: (3, 3)\n",
            "First element of vector: 1\n",
            "First row of matrix: [1 2 3]\n",
            "Subset of matrix:\n",
            "[[2 3]\n",
            " [5 6]]\n"
          ]
        }
      ],
      "source": [
        "# Reshaping\n",
        "vector_reshaped = vector.reshape((5, 1))\n",
        "print(f\"Reshaped vector:\\n{vector_reshaped}\")\n",
        "print(f\"Shape of reshaped vector: {vector_reshaped.shape}\")\n",
        "\n",
        "# Transposing\n",
        "matrix_transposed = matrix.T\n",
        "print(f\"Transposed matrix:\\n{matrix_transposed}\")\n",
        "print(f\"Shape of transposed matrix: {matrix_transposed.shape}\")\n",
        "\n",
        "# Indexing and Slicing\n",
        "print(f\"First element of vector: {vector[0]}\")\n",
        "print(f\"First row of matrix: {matrix[0, :]}\")\n",
        "print(f\"Subset of matrix:\\n{matrix[:2, 1:]}\")"
      ]
    },
    {
      "cell_type": "markdown",
      "metadata": {
        "id": "5fe69e1b"
      },
      "source": [
        "## The Notion of Data Batches\n",
        "\n",
        "*   Neural networks are typically trained on small batches of data rather than the entire dataset at once.\n",
        "*   A data batch is a collection of multiple data samples, often organized as a tensor where the first dimension represents the batch size.\n",
        "*   This allows for more efficient computation and memory usage."
      ]
    },
    {
      "cell_type": "code",
      "execution_count": null,
      "metadata": {
        "colab": {
          "base_uri": "https://localhost:8080/"
        },
        "id": "58728511",
        "outputId": "fc076023-532e-4de2-c17d-71abc48812ed"
      },
      "outputs": [
        {
          "name": "stdout",
          "output_type": "stream",
          "text": [
            "Shape of image batch: (3, 32, 32, 3)\n"
          ]
        }
      ],
      "source": [
        "# Example of a batch of images (batch size = 3, image size = 32x32 pixels with 3 color channels)\n",
        "image_batch = np.zeros((3, 32, 32, 3))\n",
        "print(f\"Shape of image batch: {image_batch.shape}\")"
      ]
    },
    {
      "cell_type": "markdown",
      "metadata": {
        "id": "a196163c"
      },
      "source": [
        "## Real-World Examples of Data Tensors\n",
        "\n",
        "Let's look at how different types of real-world data are represented as tensors.\n",
        "\n",
        "### Vector Data\n",
        "\n",
        "*   Examples: Features of a user (age, income, location), word embeddings.\n",
        "*   Representation: 1D tensors (vectors)."
      ]
    },
    {
      "cell_type": "code",
      "execution_count": null,
      "metadata": {
        "colab": {
          "base_uri": "https://localhost:8080/"
        },
        "id": "0f59aa79",
        "outputId": "e1faca76-7a7c-455d-d84c-40ed9664bd6a"
      },
      "outputs": [
        {
          "name": "stdout",
          "output_type": "stream",
          "text": [
            "User features vector: [   35 60000     1]\n"
          ]
        }
      ],
      "source": [
        "# Example: User features\n",
        "user_features = np.array([35, 60000, 1]) # Age, Income, Location ID\n",
        "print(f\"User features vector: {user_features}\")"
      ]
    },
    {
      "cell_type": "markdown",
      "metadata": {
        "id": "214aa0bf"
      },
      "source": [
        "### Time Series Data or Sequence Data\n",
        "\n",
        "*   Examples: Stock prices over time, sensor readings, text sequences.\n",
        "*   Representation: Typically 2D or 3D tensors.\n",
        "    *   2D (samples, timesteps) for a single feature over time.\n",
        "    *   3D (samples, timesteps, features) for multiple features over time."
      ]
    },
    {
      "cell_type": "code",
      "execution_count": null,
      "metadata": {
        "colab": {
          "base_uri": "https://localhost:8080/"
        },
        "id": "be22c8f6",
        "outputId": "385639c4-ec84-40cb-a32f-a857ba00511e"
      },
      "outputs": [
        {
          "name": "stdout",
          "output_type": "stream",
          "text": [
            "Stock prices tensor:\n",
            "[[150.5 151.2 150.8 152. ]\n",
            " [205.1 206.5 204.9 207.3]]\n",
            "Shape of stock prices tensor: (2, 4)\n"
          ]
        }
      ],
      "source": [
        "# Example: Stock prices for a few days\n",
        "stock_prices = np.array([[150.5, 151.2, 150.8, 152.0],\n",
        "                         [205.1, 206.5, 204.9, 207.3]]) # Two stocks, 4 days of prices\n",
        "print(f\"Stock prices tensor:\\n{stock_prices}\")\n",
        "print(f\"Shape of stock prices tensor: {stock_prices.shape}\")"
      ]
    },
    {
      "cell_type": "markdown",
      "metadata": {
        "id": "a29088fe"
      },
      "source": [
        "### Image Data\n",
        "\n",
        "*   Examples: Photographs, scanned documents.\n",
        "*   Representation: 3D or 4D tensors.\n",
        "    *   3D (height, width, channels) for a single image (e.g., RGB).\n",
        "    *   4D (samples, height, width, channels) for a batch of images."
      ]
    },
    {
      "cell_type": "code",
      "execution_count": null,
      "metadata": {
        "colab": {
          "base_uri": "https://localhost:8080/",
          "height": 463
        },
        "id": "f8eb2b7f",
        "outputId": "d3ad42c0-c331-455c-a304-537f5c48bcaa"
      },
      "outputs": [
        {
          "name": "stdout",
          "output_type": "stream",
          "text": [
            "Shape of grayscale image: (28, 28)\n",
            "Shape of color image batch: (10, 64, 64, 3)\n"
          ]
        },
        {
          "data": {
            "image/png": "[encoded data removed]",
            "text/plain": [
              "<Figure size 640x480 with 1 Axes>"
            ]
          },
          "metadata": {},
          "output_type": "display_data"
        }
      ],
      "source": [
        "# Example: A single grayscale image (28x28 pixels)\n",
        "grayscale_image = np.random.rand(28, 28)\n",
        "print(f\"Shape of grayscale image: {grayscale_image.shape}\")\n",
        "\n",
        "# Example: A batch of color images (batch size = 10, 64x64 pixels, RGB)\n",
        "color_image_batch = np.random.rand(10, 64, 64, 3)\n",
        "print(f\"Shape of color image batch: {color_image_batch.shape}\")\n",
        "\n",
        "# Basic visualization of a grayscale image (requires matplotlib)\n",
        "import matplotlib.pyplot as plt\n",
        "\n",
        "plt.imshow(grayscale_image, cmap='gray')\n",
        "plt.title(\"Grayscale Image Example\")\n",
        "plt.axis('off')\n",
        "plt.show()"
      ]
    },
    {
      "cell_type": "markdown",
      "metadata": {
        "id": "f5418733"
      },
      "source": [
        "### Video Data\n",
        "\n",
        "*   Examples: Video clips, movie frames.\n",
        "*   Representation: Typically 4D or 5D tensors.\n",
        "    *   4D (frames, height, width, channels) for a single video.\n",
        "    *   5D (samples, frames, height, width, channels) for a batch of videos."
      ]
    },
    {
      "cell_type": "code",
      "execution_count": null,
      "metadata": {
        "colab": {
          "base_uri": "https://localhost:8080/"
        },
        "id": "45507709",
        "outputId": "853f638d-2f43-4eeb-c6dc-b269eefed0b0"
      },
      "outputs": [
        {
          "name": "stdout",
          "output_type": "stream",
          "text": [
            "Shape of video batch: (2, 30, 128, 128)\n"
          ]
        }
      ],
      "source": [
        "# Example: A batch of video clips (batch size = 2, 30 frames per clip, 128x128 pixels, grayscale)\n",
        "video_batch = np.random.rand(2, 30, 128, 128)\n",
        "print(f\"Shape of video batch: {video_batch.shape}\")"
      ]
    },
    {
      "cell_type": "markdown",
      "metadata": {
        "id": "26885f24"
      },
      "source": [
        "## Conclusion and Summary\n",
        "\n",
        "In this notebook, we have explored the concept of tensors as the fundamental data structure in neural networks. We started with basic tensor types like scalars, vectors, and matrices, and then moved on to higher-dimensional tensors. We also discussed key tensor attributes such as `ndim`, `shape`, and `dtype`, and demonstrated how to manipulate tensors using NumPy. Finally, we looked at how various real-world data types, including vector data, time series, images, and videos, can be represented as tensors, and introduced the notion of data batches. Understanding these data representations is essential for effectively building and training neural networks for different applications."
      ]
    }
  ],
  "metadata": {
    "colab": {
      "provenance": []
    },
    "kernelspec": {
      "display_name": "Python 3",
      "name": "python3"
    },
    "language_info": {
      "name": "python"
    }
  },
  "nbformat": 4,
  "nbformat_minor": 0
}