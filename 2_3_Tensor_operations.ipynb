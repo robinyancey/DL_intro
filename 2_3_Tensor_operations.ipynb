{
  "cells": [
    {
      "cell_type": "markdown",
      "metadata": {
        "id": "b4884db4"
      },
      "source": [
        "# The Gears of Neural Networks: Tensor Operations\n",
        "\n",
        "This notebook explores the fundamental tensor operations that power neural networks, focusing on their mathematical definitions and geometric interpretations. Understanding these operations is crucial for grasping how neural networks process data and learn complex patterns.\n",
        "\n",
        "Following topics will be discussed in the notebook:\n",
        "- Element-wise operations\n",
        "- Broadcasting\n",
        "- Tensor dot\n",
        "- Tensor reshaping\n",
        "- Geometric interpretation of tensor operations\n"
      ]
    },
    {
      "cell_type": "markdown",
      "metadata": {
        "id": "9b93a172"
      },
      "source": [
        "## Tensors: The Language of Neural Networks\n",
        "\n",
        "*   **What are Tensors?** Tensors are multi-dimensional arrays, generalizations of scalars (0D tensors), vectors (1D tensors), and matrices (2D tensors). They are the primary data structure used in deep learning frameworks like TensorFlow and PyTorch.\n",
        "*   **Rank/Order:** The number of dimensions in a tensor.\n",
        "*   **Shape:** A tuple indicating the size of each dimension.\n",
        "*   **Data Type:** The type of elements stored in the tensor (e.g., float32, int64)."
      ]
    },
    {
      "cell_type": "markdown",
      "metadata": {
        "id": "0fa9ae01"
      },
      "source": [
        "## Element-wise Operations\n",
        "\n",
        "*   **Definition:** Operations applied independently to each element of one or more tensors. The tensors must have the same shape.\n",
        "*   **Examples:** Addition, subtraction, multiplication, division, and unary operations like sine, cosine, and exponentiation.\n",
        "*   **Mathematical Notation:** For two tensors $A$ and $B$ of the same shape, their element-wise sum $C$ is given by $C_{ijk...} = A_{ijk...} + B_{ijk...}$."
      ]
    },
    {
      "cell_type": "code",
      "execution_count": null,
      "metadata": {
        "colab": {
          "base_uri": "https://localhost:8080/"
        },
        "id": "9da785f7",
        "outputId": "84629aa4-e8b4-48b5-b856-e149fd95540c"
      },
      "outputs": [
        {
          "name": "stdout",
          "output_type": "stream",
          "text": [
            "Element-wise addition:\n",
            " [[ 6  8]\n",
            " [10 12]]\n",
            "\n",
            "Element-wise multiplication:\n",
            " [[ 5 12]\n",
            " [21 32]]\n"
          ]
        }
      ],
      "source": [
        "import numpy as np\n",
        "\n",
        "# Element-wise addition\n",
        "a = np.array([[1, 2], [3, 4]])\n",
        "b = np.array([[5, 6], [7, 8]])\n",
        "c = a + b\n",
        "print(\"Element-wise addition:\\n\", c)\n",
        "\n",
        "# Element-wise multiplication\n",
        "d = a * b\n",
        "print(\"\\nElement-wise multiplication:\\n\", d)"
      ]
    },
    {
      "cell_type": "markdown",
      "metadata": {
        "id": "63d71c65"
      },
      "source": [
        "## Broadcasting\n",
        "\n",
        "*   **Definition:** A mechanism that allows NumPy (and other libraries) to work with arrays of different shapes when performing arithmetic operations. It stretches the smaller array across the larger array so that they have compatible shapes.\n",
        "*   **Rules:**\n",
        "    1.  If the two arrays differ in their number of dimensions, the shape of the one with fewer dimensions is padded with ones on its leading (left) side.\n",
        "    2.  If the shape of the two arrays does not match in any dimension, the array with shape equal to 1 in that dimension is stretched to match the other shape.\n",
        "    3.  If in any dimension the sizes disagree and neither is equal to 1, an error is raised."
      ]
    },
    {
      "cell_type": "code",
      "execution_count": null,
      "metadata": {
        "colab": {
          "base_uri": "https://localhost:8080/"
        },
        "id": "907d879a",
        "outputId": "02684b0b-8551-474c-f700-75cb774e797b"
      },
      "outputs": [
        {
          "name": "stdout",
          "output_type": "stream",
          "text": [
            "Broadcasting addition:\n",
            " [[11 22]\n",
            " [13 24]]\n"
          ]
        }
      ],
      "source": [
        "# Broadcasting example\n",
        "a = np.array([[1, 2], [3, 4]])\n",
        "b = np.array([10, 20])\n",
        "c = a + b  # b is broadcast to [[10, 20], [10, 20]]\n",
        "print(\"Broadcasting addition:\\n\", c)"
      ]
    },
    {
      "cell_type": "markdown",
      "metadata": {
        "id": "f28e6de4"
      },
      "source": [
        "## Tensor Dot Product\n",
        "\n",
        "*   **Definition:** A fundamental operation in linear algebra and neural networks. For two tensors, the dot product involves summing the products of corresponding elements along specified axes.\n",
        "*   **Matrix Multiplication:** A common form of tensor dot product. For matrices $A$ (m x n) and $B$ (n x p), their product $C$ (m x p) is given by $C_{ij} = \\sum_k A_{ik} B_{kj}$."
      ]
    },
    {
      "cell_type": "code",
      "execution_count": null,
      "metadata": {
        "colab": {
          "base_uri": "https://localhost:8080/"
        },
        "id": "0caff737",
        "outputId": "e4b8c2b5-503f-4d24-8dd4-cd75309dd5fc"
      },
      "outputs": [
        {
          "name": "stdout",
          "output_type": "stream",
          "text": [
            "Matrix multiplication:\n",
            " [[19 22]\n",
            " [43 50]]\n",
            "\n",
            "Tensor dot product shape: (2, 3, 5)\n"
          ]
        }
      ],
      "source": [
        "# Matrix multiplication\n",
        "a = np.array([[1, 2], [3, 4]])\n",
        "b = np.array([[5, 6], [7, 8]])\n",
        "c = np.dot(a, b)\n",
        "print(\"Matrix multiplication:\\n\", c)\n",
        "\n",
        "# Tensor dot product with higher dimensions\n",
        "a = np.arange(24).reshape((2, 3, 4))\n",
        "b = np.arange(20).reshape((4, 5))\n",
        "c = np.dot(a, b)\n",
        "print(\"\\nTensor dot product shape:\", c.shape)"
      ]
    },
    {
      "cell_type": "markdown",
      "metadata": {
        "id": "a1f10ae1"
      },
      "source": [
        "## Tensor Reshaping\n",
        "\n",
        "*   **Definition:** Changing the shape (dimensions) of a tensor without changing its data. This is useful for preparing tensors for operations that require specific input shapes.\n",
        "*   **Methods:** `reshape()`, `flatten()`, `squeeze()`, `expand_dims()`, `transpose()`."
      ]
    },
    {
      "cell_type": "code",
      "execution_count": null,
      "metadata": {
        "colab": {
          "base_uri": "https://localhost:8080/"
        },
        "id": "2abb0fd4",
        "outputId": "88679177-0ac3-4cee-ff7c-12a64860edf0"
      },
      "outputs": [
        {
          "name": "stdout",
          "output_type": "stream",
          "text": [
            "Original tensor:\n",
            " [[ 0  1  2  3]\n",
            " [ 4  5  6  7]\n",
            " [ 8  9 10 11]]\n",
            "\n",
            "Reshaped tensor:\n",
            " [[ 0  1  2]\n",
            " [ 3  4  5]\n",
            " [ 6  7  8]\n",
            " [ 9 10 11]]\n",
            "\n",
            "Flattened tensor:\n",
            " [ 0  1  2  3  4  5  6  7  8  9 10 11]\n"
          ]
        }
      ],
      "source": [
        "# Reshaping a tensor\n",
        "a = np.arange(12).reshape((3, 4))\n",
        "b = a.reshape((4, 3))\n",
        "print(\"Original tensor:\\n\", a)\n",
        "print(\"\\nReshaped tensor:\\n\", b)\n",
        "\n",
        "# Flattening a tensor\n",
        "c = a.flatten()\n",
        "print(\"\\nFlattened tensor:\\n\", c)"
      ]
    },
    {
      "cell_type": "markdown",
      "metadata": {
        "id": "1bca0f00"
      },
      "source": [
        "## Geometric Interpretation of Tensor Operations\n",
        "\n",
        "*   **Vectors:** Represent points or directions in space.\n",
        "*   **Matrices:** Can represent linear transformations (rotations, scaling, shearing) of vectors or spaces.\n",
        "*   **Element-wise operations:** Can be seen as independent transformations applied to each dimension of a vector space.\n",
        "*   **Dot Product (Matrix Multiplication):** Represents the composition of linear transformations. Applying matrix B then matrix A to a vector is equivalent to applying the product of A and B to the vector."
      ]
    },
    {
      "cell_type": "code",
      "execution_count": null,
      "metadata": {
        "colab": {
          "base_uri": "https://localhost:8080/",
          "height": 564
        },
        "id": "f052469e",
        "outputId": "34b92ab2-3828-4e1a-bf68-3887ff9b1f6e"
      },
      "outputs": [
        {
          "data": {
            "image/png": "[encoded data removed]",
            "text/plain": [
              "<Figure size 600x600 with 1 Axes>"
            ]
          },
          "metadata": {},
          "output_type": "display_data"
        }
      ],
      "source": [
        "import matplotlib.pyplot as plt\n",
        "\n",
        "# Geometric interpretation of matrix multiplication (rotation)\n",
        "theta = np.pi/4\n",
        "rotation_matrix = np.array([[np.cos(theta), -np.sin(theta)], [np.sin(theta), np.cos(theta)]])\n",
        "vector = np.array([1, 0])\n",
        "rotated_vector = np.dot(rotation_matrix, vector)\n",
        "\n",
        "plt.figure(figsize=(6, 6))\n",
        "plt.quiver(0, 0, vector[0], vector[1], angles='xy', scale_units='xy', scale=1, color='r', label='Original Vector')\n",
        "plt.quiver(0, 0, rotated_vector[0], rotated_vector[1], angles='xy', scale_units='xy', scale=1, color='b', label='Rotated Vector')\n",
        "plt.xlim(-1.5, 1.5)\n",
        "plt.ylim(-1.5, 1.5)\n",
        "plt.xlabel('X-axis')\n",
        "plt.ylabel('Y-axis')\n",
        "plt.title('Geometric Interpretation of Rotation Matrix')\n",
        "plt.legend()\n",
        "plt.grid()\n",
        "plt.gca().set_aspect('equal', adjustable='box')\n",
        "plt.show()"
      ]
    },
    {
      "cell_type": "markdown",
      "metadata": {
        "id": "3fa5162b"
      },
      "source": [
        "## A Geometric Interpretation of Deep Learning\n",
        "\n",
        "*   **Layers as Transformations:** Each layer in a neural network can be viewed as a series of tensor operations (matrix multiplications, additions, non-linear activations) that geometrically transform the input data space.\n",
        "*   **Learning as Finding Transformations:** Training a neural network involves finding the optimal parameters (weights and biases) for these tensor operations so that the network can transform the input data into a representation that is linearly separable for the final classification or regression task.\n",
        "*   **High-Dimensional Spaces:** Neural networks operate in high-dimensional spaces where these geometric transformations can be complex and non-intuitive to visualize directly, but the underlying principles of linear algebra and geometry still apply."
      ]
    },
    {
      "cell_type": "markdown",
      "metadata": {
        "id": "d91a436e"
      },
      "source": [
        "## Conclusion and Summary\n",
        "\n",
        "This notebook explored the fundamental tensor operations that form the backbone of neural networks: element-wise operations, broadcasting, tensor dot product, and reshaping. We've seen how these operations manipulate multi-dimensional data and how, from a geometric perspective, they represent transformations of vector spaces. Understanding these concepts is crucial for comprehending how neural networks learn by finding optimal sequences of transformations to map input data to desired outputs in high-dimensional spaces."
      ]
    }
  ],
  "metadata": {
    "colab": {
      "provenance": []
    },
    "kernelspec": {
      "display_name": "Python 3",
      "name": "python3"
    },
    "language_info": {
      "name": "python"
    }
  },
  "nbformat": 4,
  "nbformat_minor": 0
}