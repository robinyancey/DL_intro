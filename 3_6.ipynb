{
  "nbformat": 4,
  "nbformat_minor": 0,
  "metadata": {
    "colab": {
      "provenance": []
    },
    "kernelspec": {
      "name": "python3",
      "display_name": "Python 3"
    },
    "language_info": {
      "name": "python"
    }
  },
  "cells": [
    {
      "cell_type": "markdown",
      "metadata": {
        "id": "bfb70b41"
      },
      "source": [
        "# 3.6 Predicting house prices: a regression example\n",
        "\n",
        "This notebook serves as a lecture note on predicting house prices using a regression model. We will cover the following topics:\n",
        "\n",
        "1.  The Boston Housing Price dataset\n",
        "2.  Preparing the data\n",
        "3.  Building your network\n",
        "4.  Validating your approach using K-fold validation"
      ]
    },
    {
      "cell_type": "markdown",
      "metadata": {
        "id": "f85d07e3"
      },
      "source": [
        "## 1. The Boston Housing Price dataset\n",
        "\n",
        "*   The Boston Housing Price dataset is a classic dataset used in machine learning for regression tasks.\n",
        "*   It contains information about houses in the Boston area and their median values.\n",
        "*   The dataset has 13 features, such as crime rate, number of rooms, and distance to employment centers, and one target variable: the median value of owner-occupied homes (in thousands of dollars)."
      ]
    },
    {
      "cell_type": "code",
      "metadata": {
        "colab": {
          "base_uri": "https://localhost:8080/"
        },
        "id": "b61383ea",
        "outputId": "af1c6f97-5487-41f3-994a-7576ab54d38e"
      },
      "source": [
        "from tensorflow.keras.datasets import boston_housing\n",
        "\n",
        "# Load the dataset\n",
        "(train_data, train_targets), (test_data, test_targets) = boston_housing.load_data()\n",
        "\n",
        "print(f\"Training data shape: {train_data.shape}\")\n",
        "print(f\"Test data shape: {test_data.shape}\")\n",
        "print(f\"Training targets shape: {train_targets.shape}\")\n",
        "print(f\"Test targets shape: {test_targets.shape}\")\n",
        "\n",
        "# Display the first few rows of the training data\n",
        "print(\"\\nFirst few rows of training data:\")\n",
        "print(train_data[:5])\n",
        "\n",
        "# Display the first few training targets\n",
        "print(\"\\nFirst few training targets:\")\n",
        "print(train_targets[:5])"
      ],
      "execution_count": null,
      "outputs": [
        {
          "output_type": "stream",
          "name": "stdout",
          "text": [
            "Downloading data from https://storage.googleapis.com/tensorflow/tf-keras-datasets/boston_housing.npz\n",
            "\u001b[1m57026/57026\u001b[0m \u001b[32m━━━━━━━━━━━━━━━━━━━━\u001b[0m\u001b[37m\u001b[0m \u001b[1m0s\u001b[0m 0us/step\n",
            "Training data shape: (404, 13)\n",
            "Test data shape: (102, 13)\n",
            "Training targets shape: (404,)\n",
            "Test targets shape: (102,)\n",
            "\n",
            "First few rows of training data:\n",
            "[[1.23247e+00 0.00000e+00 8.14000e+00 0.00000e+00 5.38000e-01 6.14200e+00\n",
            "  9.17000e+01 3.97690e+00 4.00000e+00 3.07000e+02 2.10000e+01 3.96900e+02\n",
            "  1.87200e+01]\n",
            " [2.17700e-02 8.25000e+01 2.03000e+00 0.00000e+00 4.15000e-01 7.61000e+00\n",
            "  1.57000e+01 6.27000e+00 2.00000e+00 3.48000e+02 1.47000e+01 3.95380e+02\n",
            "  3.11000e+00]\n",
            " [4.89822e+00 0.00000e+00 1.81000e+01 0.00000e+00 6.31000e-01 4.97000e+00\n",
            "  1.00000e+02 1.33250e+00 2.40000e+01 6.66000e+02 2.02000e+01 3.75520e+02\n",
            "  3.26000e+00]\n",
            " [3.96100e-02 0.00000e+00 5.19000e+00 0.00000e+00 5.15000e-01 6.03700e+00\n",
            "  3.45000e+01 5.98530e+00 5.00000e+00 2.24000e+02 2.02000e+01 3.96900e+02\n",
            "  8.01000e+00]\n",
            " [3.69311e+00 0.00000e+00 1.81000e+01 0.00000e+00 7.13000e-01 6.37600e+00\n",
            "  8.84000e+01 2.56710e+00 2.40000e+01 6.66000e+02 2.02000e+01 3.91430e+02\n",
            "  1.46500e+01]]\n",
            "\n",
            "First few training targets:\n",
            "[15.2 42.3 50.  21.1 17.7]\n"
          ]
        }
      ]
    },
    {
      "cell_type": "markdown",
      "metadata": {
        "id": "a19c788d"
      },
      "source": [
        "## 2. Preparing the data\n",
        "\n",
        "*   The features in the Boston Housing dataset have different scales. For example, the crime rate is between 0 and 1, while the number of rooms is between 4 and 9.\n",
        "*   Neural networks perform better when the input features are scaled to a similar range.\n",
        "*   A common technique is **feature-wise normalization**, where for each feature, we subtract the mean and divide by the standard deviation.\n",
        "\n",
        "The formula for normalization is:\n",
        "\n",
        "$$ x_{normalized} = \\frac{x - \\mu}{\\sigma} $$\n",
        "\n",
        "where:\n",
        "*   $x$ is the original feature value\n",
        "*   $\\mu$ is the mean of the feature\n",
        "*   $\\sigma$ is the standard deviation of the feature"
      ]
    },
    {
      "cell_type": "code",
      "metadata": {
        "colab": {
          "base_uri": "https://localhost:8080/"
        },
        "id": "465772ed",
        "outputId": "e0cb59c5-6eb2-4b22-9b85-b633ebaecb92"
      },
      "source": [
        "import numpy as np\n",
        "\n",
        "# Normalize the training data\n",
        "mean = train_data.mean(axis=0)\n",
        "train_data -= mean\n",
        "std = train_data.std(axis=0)\n",
        "train_data /= std\n",
        "\n",
        "# Normalize the test data using the mean and standard deviation from the training data\n",
        "test_data -= mean\n",
        "test_data /= std\n",
        "\n",
        "print(\"Training data after normalization:\")\n",
        "print(train_data[:5])"
      ],
      "execution_count": null,
      "outputs": [
        {
          "output_type": "stream",
          "name": "stdout",
          "text": [
            "Training data after normalization:\n",
            "[[-0.27224633 -0.48361547 -0.43576161 -0.25683275 -0.1652266  -0.1764426\n",
            "   0.81306188  0.1166983  -0.62624905 -0.59517003  1.14850044  0.44807713\n",
            "   0.8252202 ]\n",
            " [-0.40342651  2.99178419 -1.33391162 -0.25683275 -1.21518188  1.89434613\n",
            "  -1.91036058  1.24758524 -0.85646254 -0.34843254 -1.71818909  0.43190599\n",
            "  -1.32920239]\n",
            " [ 0.1249402  -0.48361547  1.0283258  -0.25683275  0.62864202 -1.82968811\n",
            "   1.11048828 -1.18743907  1.67588577  1.5652875   0.78447637  0.22061726\n",
            "  -1.30850006]\n",
            " [-0.40149354 -0.48361547 -0.86940196 -0.25683275 -0.3615597  -0.3245576\n",
            "  -1.23667187  1.10717989 -0.51114231 -1.094663    0.78447637  0.44807713\n",
            "  -0.65292624]\n",
            " [-0.0056343  -0.48361547  1.0283258  -0.25683275  1.32861221  0.15364225\n",
            "   0.69480801 -0.57857203  1.67588577  1.5652875   0.78447637  0.3898823\n",
            "   0.26349695]]\n"
          ]
        }
      ]
    },
    {
      "cell_type": "markdown",
      "metadata": {
        "id": "57496205"
      },
      "source": [
        "## 3. Building your network\n",
        "\n",
        "*   We will build a simple feedforward neural network for this regression task.\n",
        "*   The network will have two hidden layers with ReLU activation and an output layer with no activation (for regression).\n",
        "*   Since we are predicting a single continuous value (house price), the output layer will have one unit.\n",
        "*   The loss function for regression is typically Mean Squared Error (MSE).\n",
        "\n",
        "$$ MSE = \\frac{1}{n} \\sum_{i=1}^{n} (y_i - \\hat{y}_i)^2 $$\n",
        "\n",
        "where:\n",
        "*   $n$ is the number of samples\n",
        "*   $y_i$ is the actual target value\n",
        "*   $\\hat{y}_i$ is the predicted target value\n",
        "\n",
        "*   We will use the Adam optimizer.\n",
        "*   We will monitor the Mean Absolute Error (MAE) during training as it is more interpretable than MSE.\n",
        "\n",
        "$$ MAE = \\frac{1}{n} \\sum_{i=1}^{n} |y_i - \\hat{y}_i| $$"
      ]
    },
    {
      "cell_type": "code",
      "metadata": {
        "colab": {
          "base_uri": "https://localhost:8080/",
          "height": 280
        },
        "id": "e19ad1ba",
        "outputId": "7238bd3b-7b3d-4f0f-e1ae-e7774ee2473b"
      },
      "source": [
        "from tensorflow import keras\n",
        "from tensorflow.keras import layers\n",
        "\n",
        "def build_model():\n",
        "    model = keras.Sequential([\n",
        "        layers.Dense(64, activation=\"relu\", input_shape=(train_data.shape[1],)),\n",
        "        layers.Dense(64, activation=\"relu\"),\n",
        "        layers.Dense(1) # Single output unit for regression\n",
        "    ])\n",
        "    model.compile(optimizer=\"adam\", loss=\"mse\", metrics=[\"mae\"])\n",
        "    return model\n",
        "\n",
        "model = build_model()\n",
        "model.summary()"
      ],
      "execution_count": null,
      "outputs": [
        {
          "output_type": "stream",
          "name": "stderr",
          "text": [
            "/usr/local/lib/python3.12/dist-packages/keras/src/layers/core/dense.py:93: UserWarning: Do not pass an `input_shape`/`input_dim` argument to a layer. When using Sequential models, prefer using an `Input(shape)` object as the first layer in the model instead.\n",
            "  super().__init__(activity_regularizer=activity_regularizer, **kwargs)\n"
          ]
        },
        {
          "output_type": "display_data",
          "data": {
            "text/plain": [
              "\u001b[1mModel: \"sequential\"\u001b[0m\n"
            ],
            "text/html": [
              "<pre style=\"white-space:pre;overflow-x:auto;line-height:normal;font-family:Menlo,'DejaVu Sans Mono',consolas,'Courier New',monospace\"><span style=\"font-weight: bold\">Model: \"sequential\"</span>\n",
              "</pre>\n"
            ]
          },
          "metadata": {}
        },
        {
          "output_type": "display_data",
          "data": {
            "text/plain": [
              "┏━━━━━━━━━━━━━━━━━━━━━━━━━━━━━━━━━┳━━━━━━━━━━━━━━━━━━━━━━━━┳━━━━━━━━━━━━━━━┓\n",
              "┃\u001b[1m \u001b[0m\u001b[1mLayer (type)                   \u001b[0m\u001b[1m \u001b[0m┃\u001b[1m \u001b[0m\u001b[1mOutput Shape          \u001b[0m\u001b[1m \u001b[0m┃\u001b[1m \u001b[0m\u001b[1m      Param #\u001b[0m\u001b[1m \u001b[0m┃\n",
              "┡━━━━━━━━━━━━━━━━━━━━━━━━━━━━━━━━━╇━━━━━━━━━━━━━━━━━━━━━━━━╇━━━━━━━━━━━━━━━┩\n",
              "│ dense (\u001b[38;5;33mDense\u001b[0m)                   │ (\u001b[38;5;45mNone\u001b[0m, \u001b[38;5;34m64\u001b[0m)             │           \u001b[38;5;34m896\u001b[0m │\n",
              "├─────────────────────────────────┼────────────────────────┼───────────────┤\n",
              "│ dense_1 (\u001b[38;5;33mDense\u001b[0m)                 │ (\u001b[38;5;45mNone\u001b[0m, \u001b[38;5;34m64\u001b[0m)             │         \u001b[38;5;34m4,160\u001b[0m │\n",
              "├─────────────────────────────────┼────────────────────────┼───────────────┤\n",
              "│ dense_2 (\u001b[38;5;33mDense\u001b[0m)                 │ (\u001b[38;5;45mNone\u001b[0m, \u001b[38;5;34m1\u001b[0m)              │            \u001b[38;5;34m65\u001b[0m │\n",
              "└─────────────────────────────────┴────────────────────────┴───────────────┘\n"
            ],
            "text/html": [
              "<pre style=\"white-space:pre;overflow-x:auto;line-height:normal;font-family:Menlo,'DejaVu Sans Mono',consolas,'Courier New',monospace\">┏━━━━━━━━━━━━━━━━━━━━━━━━━━━━━━━━━┳━━━━━━━━━━━━━━━━━━━━━━━━┳━━━━━━━━━━━━━━━┓\n",
              "┃<span style=\"font-weight: bold\"> Layer (type)                    </span>┃<span style=\"font-weight: bold\"> Output Shape           </span>┃<span style=\"font-weight: bold\">       Param # </span>┃\n",
              "┡━━━━━━━━━━━━━━━━━━━━━━━━━━━━━━━━━╇━━━━━━━━━━━━━━━━━━━━━━━━╇━━━━━━━━━━━━━━━┩\n",
              "│ dense (<span style=\"color: #0087ff; text-decoration-color: #0087ff\">Dense</span>)                   │ (<span style=\"color: #00d7ff; text-decoration-color: #00d7ff\">None</span>, <span style=\"color: #00af00; text-decoration-color: #00af00\">64</span>)             │           <span style=\"color: #00af00; text-decoration-color: #00af00\">896</span> │\n",
              "├─────────────────────────────────┼────────────────────────┼───────────────┤\n",
              "│ dense_1 (<span style=\"color: #0087ff; text-decoration-color: #0087ff\">Dense</span>)                 │ (<span style=\"color: #00d7ff; text-decoration-color: #00d7ff\">None</span>, <span style=\"color: #00af00; text-decoration-color: #00af00\">64</span>)             │         <span style=\"color: #00af00; text-decoration-color: #00af00\">4,160</span> │\n",
              "├─────────────────────────────────┼────────────────────────┼───────────────┤\n",
              "│ dense_2 (<span style=\"color: #0087ff; text-decoration-color: #0087ff\">Dense</span>)                 │ (<span style=\"color: #00d7ff; text-decoration-color: #00d7ff\">None</span>, <span style=\"color: #00af00; text-decoration-color: #00af00\">1</span>)              │            <span style=\"color: #00af00; text-decoration-color: #00af00\">65</span> │\n",
              "└─────────────────────────────────┴────────────────────────┴───────────────┘\n",
              "</pre>\n"
            ]
          },
          "metadata": {}
        },
        {
          "output_type": "display_data",
          "data": {
            "text/plain": [
              "\u001b[1m Total params: \u001b[0m\u001b[38;5;34m5,121\u001b[0m (20.00 KB)\n"
            ],
            "text/html": [
              "<pre style=\"white-space:pre;overflow-x:auto;line-height:normal;font-family:Menlo,'DejaVu Sans Mono',consolas,'Courier New',monospace\"><span style=\"font-weight: bold\"> Total params: </span><span style=\"color: #00af00; text-decoration-color: #00af00\">5,121</span> (20.00 KB)\n",
              "</pre>\n"
            ]
          },
          "metadata": {}
        },
        {
          "output_type": "display_data",
          "data": {
            "text/plain": [
              "\u001b[1m Trainable params: \u001b[0m\u001b[38;5;34m5,121\u001b[0m (20.00 KB)\n"
            ],
            "text/html": [
              "<pre style=\"white-space:pre;overflow-x:auto;line-height:normal;font-family:Menlo,'DejaVu Sans Mono',consolas,'Courier New',monospace\"><span style=\"font-weight: bold\"> Trainable params: </span><span style=\"color: #00af00; text-decoration-color: #00af00\">5,121</span> (20.00 KB)\n",
              "</pre>\n"
            ]
          },
          "metadata": {}
        },
        {
          "output_type": "display_data",
          "data": {
            "text/plain": [
              "\u001b[1m Non-trainable params: \u001b[0m\u001b[38;5;34m0\u001b[0m (0.00 B)\n"
            ],
            "text/html": [
              "<pre style=\"white-space:pre;overflow-x:auto;line-height:normal;font-family:Menlo,'DejaVu Sans Mono',consolas,'Courier New',monospace\"><span style=\"font-weight: bold\"> Non-trainable params: </span><span style=\"color: #00af00; text-decoration-color: #00af00\">0</span> (0.00 B)\n",
              "</pre>\n"
            ]
          },
          "metadata": {}
        }
      ]
    },
    {
      "cell_type": "markdown",
      "metadata": {
        "id": "1b17fe7c"
      },
      "source": [
        "## 4. Validating your approach using K-fold validation\n",
        "\n",
        "*   Since the dataset is small, using a simple train-validation-test split might result in the validation set being too small to be representative.\n",
        "*   **K-fold cross-validation** is a technique to address this.\n",
        "*   The data is split into K folds.\n",
        "*   For each fold, we train the model on the remaining K-1 folds and evaluate it on the held-out fold.\n",
        "*   The final evaluation metric is the average of the metrics from each fold.\n",
        "*   This gives a more reliable estimate of the model's performance."
      ]
    },
    {
      "cell_type": "code",
      "metadata": {
        "colab": {
          "base_uri": "https://localhost:8080/"
        },
        "id": "e6f821a4",
        "outputId": "049206ad-0d81-4af8-a1ef-34bb6310b25a"
      },
      "source": [
        "import numpy as np\n",
        "\n",
        "k = 4 # Number of folds\n",
        "num_val_samples = len(train_data) // k\n",
        "all_scores = []\n",
        "all_mae_histories = []\n",
        "\n",
        "for i in range(k):\n",
        "    print(f\"Processing fold #{i}\")\n",
        "    # Prepare the validation data: data from fold #k\n",
        "    val_data = train_data[i * num_val_samples: (i + 1) * num_val_samples]\n",
        "    val_targets = train_targets[i * num_val_samples: (i + 1) * num_val_samples]\n",
        "\n",
        "    # Prepare the training data: data from all other folds\n",
        "    partial_train_data = np.concatenate(\n",
        "        [train_data[:i * num_val_samples],\n",
        "         train_data[(i + 1) * num_val_samples:]],\n",
        "        axis=0)\n",
        "    partial_train_targets = np.concatenate(\n",
        "        [train_targets[:i * num_val_samples],\n",
        "         train_targets[(i + 1) * num_val_samples:]],\n",
        "        axis=0)\n",
        "\n",
        "    # Build the Keras model (already compiled)\n",
        "    model = build_model()\n",
        "\n",
        "    # Train the model (in silent mode, verbose=0)\n",
        "    history = model.fit(partial_train_data, partial_train_targets,\n",
        "                        epochs=100, batch_size=1, verbose=0)\n",
        "\n",
        "    # Evaluate the model on the validation data\n",
        "    scores = model.evaluate(val_data, val_targets, verbose=0)\n",
        "    all_scores.append(scores[1]) # Append MAE\n",
        "\n",
        "    mae_history = history.history[\"mae\"]\n",
        "    all_mae_histories.append(mae_history)\n",
        "\n",
        "# Calculate the average of the per-fold MAE scores\n",
        "average_mae_history = [\n",
        "    np.mean([x[i] for x in all_mae_histories]) for i in range(100)]\n",
        "\n",
        "print(f\"\\nAverage MAE across all folds: {np.mean(all_scores):.2f}\")"
      ],
      "execution_count": null,
      "outputs": [
        {
          "output_type": "stream",
          "name": "stdout",
          "text": [
            "Processing fold #0\n",
            "Processing fold #1\n",
            "Processing fold #2\n",
            "Processing fold #3\n",
            "\n",
            "Average MAE across all folds: 2.39\n"
          ]
        }
      ]
    },
    {
      "cell_type": "markdown",
      "metadata": {
        "id": "d071d70a"
      },
      "source": [
        "### Visualizing the validation results\n",
        "\n",
        "*   We can plot the average MAE for each epoch across all folds to see how the model's performance changes during training."
      ]
    },
    {
      "cell_type": "code",
      "metadata": {
        "colab": {
          "base_uri": "https://localhost:8080/",
          "height": 472
        },
        "id": "67d5a46b",
        "outputId": "9b9e38b9-00dd-432b-decd-d4d4ec0e75ee"
      },
      "source": [
        "import matplotlib.pyplot as plt\n",
        "\n",
        "# Plot the average MAE history\n",
        "plt.plot(range(1, len(average_mae_history) + 1), average_mae_history)\n",
        "plt.xlabel(\"Epochs\")\n",
        "plt.ylabel(\"Validation MAE\")\n",
        "plt.title(\"Average Validation MAE per Epoch (K-fold Cross-Validation)\")\n",
        "plt.grid(True)\n",
        "plt.show()"
      ],
      "execution_count": null,
      "outputs": [
        {
          "output_type": "display_data",
          "data": {
            "text/plain": [
              "<Figure size 640x480 with 1 Axes>"
            ],
            "image/png": "[encoded data removed]"
          },
          "metadata": {}
        }
      ]
    },
    {
      "cell_type": "markdown",
      "metadata": {
        "id": "520224c7"
      },
      "source": [
        "### Final Training\n",
        "\n",
        "*   After determining the optimal number of epochs from the validation results, we can train the final model on the entire training dataset for that number of epochs.\n",
        "*   Finally, we evaluate the model on the unseen test data to get an estimate of its performance on new data."
      ]
    },
    {
      "cell_type": "code",
      "metadata": {
        "colab": {
          "base_uri": "https://localhost:8080/"
        },
        "id": "10e43697",
        "outputId": "a8da6c44-1742-4b59-b8d8-aed61921db17"
      },
      "source": [
        "# Rebuild a fresh model\n",
        "model = build_model()\n",
        "\n",
        "# Train it on the entirety of the training data\n",
        "model.fit(train_data, train_targets, epochs=80, batch_size=16, verbose=0)\n",
        "\n",
        "# Evaluate it on the test data\n",
        "test_mse_score, test_mae_score = model.evaluate(test_data, test_targets)\n",
        "\n",
        "print(f\"\\nTest MAE: {test_mae_score:.2f}\")"
      ],
      "execution_count": null,
      "outputs": [
        {
          "output_type": "stream",
          "name": "stdout",
          "text": [
            "\u001b[1m4/4\u001b[0m \u001b[32m━━━━━━━━━━━━━━━━━━━━\u001b[0m\u001b[37m\u001b[0m \u001b[1m0s\u001b[0m 8ms/step - loss: 13.1459 - mae: 2.4606\n",
            "\n",
            "Test MAE: 2.64\n"
          ]
        }
      ]
    },
    {
      "cell_type": "markdown",
      "metadata": {
        "id": "f8563cd8"
      },
      "source": [
        "## Summary and Conclusion\n",
        "\n",
        "This notebook demonstrated how to build and evaluate a neural network for predicting house prices using the Boston Housing dataset.\n",
        "\n",
        "*   We normalized the data to improve model performance.\n",
        "*   We built a sequential model with dense layers.\n",
        "*   We used K-fold cross-validation to validate the approach and understand the model's performance during training.\n",
        "*   The final model was trained on the full training data and evaluated on the test set.\n",
        "\n",
        "The final Mean Absolute Error (MAE) on the test set provides an indication of the model's average prediction error in thousands of dollars.\n",
        "\n",
        "This notebook illustrates a fundamental approach to solving regression problems using neural networks and highlights the importance of data preparation and robust validation techniques like K-fold cross-validation, especially with smaller datasets."
      ]
    }
  ]
}